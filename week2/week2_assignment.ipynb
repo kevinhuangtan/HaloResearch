{
 "metadata": {
  "name": "",
  "signature": "sha256:ef3bdcb0f237db54957c6b939cb2e0497d57e1cf2f17b70a8addcfe57f1ab31f"
 },
 "nbformat": 3,
 "nbformat_minor": 0,
 "worksheets": [
  {
   "cells": [
    {
     "cell_type": "markdown",
     "metadata": {},
     "source": [
      "## Problem 1"
     ]
    },
    {
     "cell_type": "code",
     "collapsed": false,
     "input": [
      "npts = 700\n",
      "x = np.zeros(npts, dtype = np.float64)\n",
      "i = np.zeros(npts, dtype = np.int32)"
     ],
     "language": "python",
     "metadata": {},
     "outputs": [],
     "prompt_number": 22
    },
    {
     "cell_type": "markdown",
     "metadata": {},
     "source": [
      "The first 300 elements of x and i correspond to one halo's main progenitor, the next 50 a second trunk, the final 350 a third halo. Use numpy's built in mmap functionality to create a memory-mapped array of x and i on disk. Use your mmap object to fill in the blanks. In particular, do *not* load the entire array into ram to solve this problem. (You will need to make use of the *offset* keyword argument)."
     ]
    },
    {
     "cell_type": "code",
     "collapsed": false,
     "input": [
      "# halo1_x = elements of x of halo 1 read directly from your memory-mapped array on disk\n",
      "# halo2_i = elements of i of halo 1 read directly from your memory-mapped array on disk"
     ],
     "language": "python",
     "metadata": {},
     "outputs": [],
     "prompt_number": 23
    },
    {
     "cell_type": "markdown",
     "metadata": {},
     "source": [
      "## Problem 2"
     ]
    },
    {
     "cell_type": "code",
     "collapsed": false,
     "input": [
      "def expensive_calculation(seed):\n",
      "    np.random.seed(seed)\n",
      "    npts = 1e6\n",
      "    x = np.random.uniform(-seed, seed, npts)\n",
      "    return np.std(x)"
     ],
     "language": "python",
     "metadata": {},
     "outputs": [],
     "prompt_number": 24
    },
    {
     "cell_type": "markdown",
     "metadata": {},
     "source": [
      "Use the python `multiprocessing` module to parallelize the following loop using all the cores available on your laptop. Benchmark your solution's runtime against the naive for loop, and also verify that you get the same answers in both cases. Make a plot showing how the speedup changes as a function of the number of threads. "
     ]
    },
    {
     "cell_type": "code",
     "collapsed": false,
     "input": [
      "num_iterations = 100\n",
      "\n",
      "result = np.zeros(num_iterations)\n",
      "for i in range(num_iterations):\n",
      "    result[i] = expensive_calculation(i)"
     ],
     "language": "python",
     "metadata": {},
     "outputs": [],
     "prompt_number": 25
    },
    {
     "cell_type": "markdown",
     "metadata": {},
     "source": [
      "## Problem 3"
     ]
    },
    {
     "cell_type": "markdown",
     "metadata": {},
     "source": [
      "* Read chapter 3 in the PySpark book\n",
      "* You may also find the following lecture useful: https://www.youtube.com/watch?v=ph374fJqFPE "
     ]
    },
    {
     "cell_type": "code",
     "collapsed": false,
     "input": [],
     "language": "python",
     "metadata": {},
     "outputs": [],
     "prompt_number": 25
    }
   ],
   "metadata": {}
  }
 ]
}