{
 "cells": [
  {
   "cell_type": "markdown",
   "metadata": {},
   "source": [
    "## Problem 1"
   ]
  },
  {
   "cell_type": "code",
   "execution_count": 2,
   "metadata": {
    "collapsed": false
   },
   "outputs": [],
   "source": [
    "import numpy as np\n",
    "npts = 700\n",
    "x = np.zeros(npts, dtype = np.float64)\n",
    "for i in range(0,npts):\n",
    "    x[i] = i\n",
    "i = np.zeros(npts, dtype = np.int32)\n",
    "for j in range(0,npts):\n",
    "    i[j] = j\n",
    "    \n",
    "#watch out for for loops for trivial things. use numpy functions"
   ]
  },
  {
   "cell_type": "markdown",
   "metadata": {},
   "source": [
    "The first 300 elements of x and i correspond to one halo's main progenitor, the next 50 a second trunk, the final 350 a third halo. Use numpy's built in mmap functionality to create a memory-mapped array of x and i on disk. Use your mmap object to fill in the blanks. In particular, do *not* load the entire array into ram to solve this problem. (You will need to make use of the *offset* keyword argument)."
   ]
  },
  {
   "cell_type": "code",
   "execution_count": 6,
   "metadata": {
    "collapsed": false
   },
   "outputs": [
    {
     "name": "stdout",
     "output_type": "stream",
     "text": [
      "[[ 0.  0.  0.  0.  0.  0.  0.  0.  0.  0.  0.  0.  0.  0.  0.  0.  0.  0.\n",
      "   0.  0.  0.  0.  0.  0.  0.  0.  0.  0.  0.  0.  0.  0.  0.  0.  0.  0.\n",
      "   0.  0.  0.  0.  0.  0.  0.  0.  0.  0.  0.  0.  0.  0.  0.  0.  0.  0.\n",
      "   0.  0.  0.  0.  0.  0.  0.  0.  0.  0.  0.  0.  0.  0.  0.  0.  0.  0.\n",
      "   0.  0.  0.  0.  0.  0.  0.  0.  0.  0.  0.  0.  0.  0.  0.  0.  0.  0.\n",
      "   0.  0.  0.  0.  0.  0.  0.  0.  0.  0.  0.  0.  0.  0.  0.  0.  0.  0.\n",
      "   0.  0.  0.  0.  0.  0.  0.  0.  0.  0.  0.  0.  0.  0.  0.  0.  0.  0.\n",
      "   0.  0.  0.  0.  0.  0.  0.  0.  0.  0.  0.  0.  0.  0.  0.  0.  0.  0.\n",
      "   0.  0.  0.  0.  0.  0.  0.  0.  0.  0.  0.  0.  0.  0.  0.  0.  0.  0.\n",
      "   0.  0.  0.  0.  0.  0.  0.  0.  0.  0.  0.  0.  0.  0.  0.  0.  0.  0.\n",
      "   0.  0.  0.  0.  0.  0.  0.  0.  0.  0.  0.  0.  0.  0.  0.  0.  0.  0.\n",
      "   0.  0.  0.  0.  0.  0.  0.  0.  0.  0.  0.  0.  0.  0.  0.  0.  0.  0.\n",
      "   0.  0.  0.  0.  0.  0.  0.  0.  0.  0.  0.  0.  0.  0.  0.  0.  0.  0.\n",
      "   0.  0.  0.  0.  0.  0.  0.  0.  0.  0.  0.  0.  0.  0.  0.  0.  0.  0.\n",
      "   0.  0.  0.  0.  0.  0.  0.  0.  0.  0.  0.  0.  0.  0.  0.  0.  0.  0.\n",
      "   0.  0.  0.  0.  0.  0.  0.  0.  0.  0.  0.  0.  0.  0.  0.  0.  0.  0.\n",
      "   0.  0.  0.  0.  0.  0.  0.  0.  0.  0.  0.  0.  0.  0.  0.  0.  0.  0.\n",
      "   0.  0.  0.  0.  0.  0.  0.  0.  0.  0.  0.  0.  0.  0.  0.  0.  0.  0.\n",
      "   0.  0.  0.  0.  0.  0.  0.  0.  0.  0.  0.  0.  0.  0.  0.  0.  0.  0.\n",
      "   0.  0.  0.  0.  0.  0.  0.  0.  0.  1.  2.  3.  4.  5.  6.  7.  8.  9.]]\n"
     ]
    }
   ],
   "source": [
    "from tempfile import mkdtemp\n",
    "import os.path as path\n",
    "import numpy as np\n",
    "\n",
    "tempfile_x = path.join(mkdtemp(), 'newfile_x.dat')\n",
    "tempfile_i = path.join(mkdtemp(), 'newfile_i.dat')\n",
    "\n",
    "offset_64 = 8 #64 bits, 8 bytes\n",
    "offset_32 = 4 #32 bits, 4 bytes\n",
    "#itemsize\n",
    "\n",
    "mmap_x = np.memmap(tempfile_x, dtype='float64', mode='w+', shape=(1,npts))\n",
    "mmap_x[:] = x[:]\n",
    "mmap_y = np.memmap(tempfile_x, dtype='float64', mode='w+', offset = npts*offset_64, shape=(1,10))\n",
    "mmap_y[:] = [0,1,2,3,4,5,6,7,8,9]\n",
    "\n",
    "mmap_i = np.memmap(tempfile_i, dtype='int32', mode='w+', shape=(1,npts))\n",
    "mmap_i[:] = i[:]\n",
    "\n",
    "# print mmap_i\n",
    "\n",
    "\n",
    "\n",
    "\n",
    "\n",
    "halo1_x = np.memmap(tempfile_x, dtype='float64', mode='r', shape=(1,300))\n",
    "halo2_x = np.memmap(tempfile_x, dtype='float64', mode='r', offset = offset_64 * 300, shape=(1,50))\n",
    "halo3_x = np.memmap(tempfile_x, dtype='float64', mode='r', offset = offset_64 * 350, shape=(1,360))\n",
    "\n",
    "halo1_i = np.memmap(tempfile_i, dtype='int32', mode='r', shape=(1,300))\n",
    "halo2_i = np.memmap(tempfile_i, dtype='int32', mode='r', offset = offset_32 * 300, shape=(1,50))\n",
    "halo3_i = np.memmap(tempfile_i, dtype='int32', mode='r', offset = offset_32 * 350, shape=(1,350))\n",
    "\n",
    "print halo3_x\n",
    "# \n",
    "# halo1_x = elements of x of halo 1 read directly from your memory-mapped array on disk\n",
    "# halo2_i = elements of i of halo 1 read directly from your memory-mapped array on disk"
   ]
  },
  {
   "cell_type": "code",
   "execution_count": null,
   "metadata": {
    "collapsed": true
   },
   "outputs": [],
   "source": []
  },
  {
   "cell_type": "markdown",
   "metadata": {},
   "source": [
    "## Problem 2"
   ]
  },
  {
   "cell_type": "markdown",
   "metadata": {},
   "source": [
    "Use the python `multiprocessing` module to parallelize the following loop using all the cores available on your laptop. Benchmark your solution's runtime against the naive for loop, and also verify that you get the same answers in both cases. Make a plot showing how the speedup changes as a function of the number of threads. "
   ]
  },
  {
   "cell_type": "code",
   "execution_count": 110,
   "metadata": {
    "collapsed": false
   },
   "outputs": [
    {
     "name": "stdout",
     "output_type": "stream",
     "text": [
      "(100,)\n",
      "CPU times: user 1.55 s, sys: 105 ms, total: 1.65 s\n",
      "Wall time: 1.66 s\n"
     ]
    },
    {
     "data": {
      "text/plain": [
       "array([  0.        ,   0.57712386,   1.1565306 ,   1.73187954,\n",
       "         2.31150049,   2.88528458,   3.46326808,   4.03991677,\n",
       "         4.61869117,   5.1966822 ,   5.77462407,   6.35218527,\n",
       "         6.92995853,   7.50360269,   8.08768231,   8.65650335,\n",
       "         9.2330127 ,   9.81982101,  10.38519286,  10.96782556,\n",
       "        11.54706617,  12.12779699,  12.71234068,  13.28026089,\n",
       "        13.86060628,  14.43021811,  15.00633877,  15.58854204,\n",
       "        16.17023345,  16.74902707,  17.31969731,  17.90034951,\n",
       "        18.47243013,  19.05988842,  19.62493696,  20.19570678,\n",
       "        20.80935613,  21.36342534,  21.92838869,  22.51558047,\n",
       "        23.10502353,  23.67761255,  24.2416425 ,  24.82570991,\n",
       "        25.42225262,  25.99598734,  26.55666513,  27.13400886,\n",
       "        27.70576623,  28.29038877,  28.87014742,  29.43144828,\n",
       "        30.03549569,  30.5973715 ,  31.16619662,  31.74646953,\n",
       "        32.33592631,  32.89863375,  33.49117019,  34.08561123,\n",
       "        34.64966909,  35.20612025,  35.79713006,  36.36782456,\n",
       "        36.93483726,  37.54693467,  38.10389226,  38.65337983,\n",
       "        39.2632476 ,  39.84278945,  40.38186229,  40.9896057 ,\n",
       "        41.58430271,  42.14096449,  42.72460194,  43.29968294,\n",
       "        43.89174226,  44.4626794 ,  45.04308806,  45.60496268,\n",
       "        46.19062347,  46.80620476,  47.33053817,  47.88015661,\n",
       "        48.51951781,  49.06099713,  49.6443787 ,  50.21836133,\n",
       "        50.77142748,  51.39822171,  51.95553525,  52.56436476,\n",
       "        53.10632285,  53.68235248,  54.29887125,  54.86606077,\n",
       "        55.41554683,  55.99622471,  56.6140304 ,  57.15457445])"
      ]
     },
     "execution_count": 110,
     "metadata": {},
     "output_type": "execute_result"
    }
   ],
   "source": [
    "#Without multiprocessing\n",
    "\n",
    "def expensive_calculation(seed):\n",
    "    np.random.seed(seed)\n",
    "    npts = 1e6\n",
    "    x = np.random.uniform(-seed, seed, npts)\n",
    "    return np.std(x)\n",
    "\n",
    "num_iterations = 100\n",
    "\n",
    "def no_multiprocessing():\n",
    "    result = np.zeros(num_iterations)\n",
    "    for i in range(num_iterations):\n",
    "        result[i] = expensive_calculation(i)\n",
    "    print result.shape\n",
    "    return result\n",
    "\n",
    "%time no_multiprocessing()\n"
   ]
  },
  {
   "cell_type": "code",
   "execution_count": 117,
   "metadata": {
    "collapsed": false
   },
   "outputs": [
    {
     "name": "stdout",
     "output_type": "stream",
     "text": [
      "CPU times: user 74.5 ms, sys: 231 ms, total: 305 ms\n",
      "Wall time: 1.13 s\n",
      "None\n"
     ]
    }
   ],
   "source": [
    "import multiprocessing as mp\n",
    "def expensive_calculation(seed, output):\n",
    "    np.random.seed(seed)\n",
    "    npts = 1e6\n",
    "\n",
    "    x = np.random.uniform(-seed, seed, npts)\n",
    "    output.put(np.std(x))\n",
    "\n",
    "def with_multiprocessing():\n",
    "    output = mp.Queue()\n",
    "\n",
    "    processes = [mp.Process(target=expensive_calculation, args=(seed, output)) for seed in range(0, num_iterations)]\n",
    "\n",
    "    # Run processes\n",
    "    for p in processes:\n",
    "        p.start()\n",
    "\n",
    "    # Exit the completed processes\n",
    "    for p in processes:\n",
    "        p.join()\n",
    "\n",
    "    # Get process results from the output queue\n",
    "    results = np.array([output.get() for p in processes])\n",
    "t = %time with_multiprocessing()\n",
    "print t\n"
   ]
  },
  {
   "cell_type": "markdown",
   "metadata": {},
   "source": [
    "## Problem 3"
   ]
  },
  {
   "cell_type": "markdown",
   "metadata": {},
   "source": [
    "* Read chapter 3 in the PySpark book\n",
    "* You may also find the following lecture useful: https://www.youtube.com/watch?v=ph374fJqFPE "
   ]
  },
  {
   "cell_type": "code",
   "execution_count": 25,
   "metadata": {
    "collapsed": false
   },
   "outputs": [],
   "source": []
  }
 ],
 "metadata": {
  "kernelspec": {
   "display_name": "Python 2",
   "language": "python",
   "name": "python2"
  },
  "language_info": {
   "codemirror_mode": {
    "name": "ipython",
    "version": 2
   },
   "file_extension": ".py",
   "mimetype": "text/x-python",
   "name": "python",
   "nbconvert_exporter": "python",
   "pygments_lexer": "ipython2",
   "version": "2.7.10"
  }
 },
 "nbformat": 4,
 "nbformat_minor": 0
}
