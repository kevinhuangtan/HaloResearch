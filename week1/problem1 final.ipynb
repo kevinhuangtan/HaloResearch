{
 "cells": [
  {
   "cell_type": "code",
   "execution_count": null,
   "metadata": {
    "collapsed": true
   },
   "outputs": [],
   "source": [
    "def file_len(fname):\n",
    "    \"\"\" Note that this includes header lines.\"\"\"\n",
    "    for i, line in enumerate(open(fname)):\n",
    "        pass\n",
    "    return i+1\n"
   ]
  },
  {
   "cell_type": "code",
   "execution_count": null,
   "metadata": {
    "collapsed": true
   },
   "outputs": [],
   "source": [
    "def header_len(fname):\n",
    "    \"\"\" Get number of header lines.\"\"\"\n",
    "    h = 0\n",
    "    for i, line in enumerate(open(fname)):\n",
    "        if(line[0] == '#'):\n",
    "            h += 1\n",
    "        else:\n",
    "            return h\n",
    "    return"
   ]
  },
  {
   "cell_type": "code",
   "execution_count": null,
   "metadata": {
    "collapsed": true
   },
   "outputs": [],
   "source": [
    "def cut_func(chunk): #func determined later\n",
    "    \"\"\" \n",
    "    Generator that yields a list of booleans determining which rows to keep in \"chunk\". \n",
    "    \n",
    "    Parameters \n",
    "    ----------\n",
    "    chunk : np array \n",
    "    \"\"\"\n",
    "    return np.ones((1, len(chunk)), dtype=bool)[0]"
   ]
  },
  {
   "cell_type": "code",
   "execution_count": null,
   "metadata": {
    "collapsed": true
   },
   "outputs": [],
   "source": [
    "def column_cut_chunk_gen(chunk_size, columns_to_keep, f):\n",
    "    \"\"\" \n",
    "    Generator that yields a list of length ``chunk_size`` containing the ``columns_to_keep`` \n",
    "    stored in the open file object ``f``. \n",
    "    \n",
    "    Parameters \n",
    "    ----------\n",
    "    chunk_size : int \n",
    "    \n",
    "    columns_to_keep : list \n",
    "    \n",
    "    f : open file object\n",
    "    \"\"\"\n",
    "    cur = 0\n",
    "    while cur < chunk_size:\n",
    "        line = f.readline()    \n",
    "        parsed_line = line.strip().split()\n",
    "        yield tuple(parsed_line[i] for i in columns_to_keep)\n",
    "        cur += 1 \n"
   ]
  },
  {
   "cell_type": "code",
   "execution_count": null,
   "metadata": {
    "collapsed": true
   },
   "outputs": [],
   "source": [
    "def fast_ascii_reader(fname, dt, **kwargs):\n",
    "    \"\"\"\n",
    "    Parameters \n",
    "    -----------\n",
    "    fname : string \n",
    "    \n",
    "    dt : numpy dtype\n",
    "        dtype object storing the names of the columns and their type.\n",
    "    \n",
    "    cut_func : function object, optional \n",
    "        function used to apply row-wise cuts to the ascii file. Default is no cuts. \n",
    "        \n",
    "    columns_to_keep : list, optional \n",
    "        List of columns to keep. Default is all columns.\n",
    "        If provided, must have the same length as the input ``dt``. \n",
    "        \n",
    "    chunksize : int, optional \n",
    "        Size of the chunks to use when reading in the data. \n",
    "        Varying chunksize impacts performance, but not the returned result. \n",
    "        Default is nrows/10.\n",
    "        \n",
    "    Returns \n",
    "    -------\n",
    "    data : astropy table\n",
    "        table storing data of type ``dt`` for only the requested rows and columns\n",
    "    \"\"\"\n",
    "    with open(fname, 'r') as f:\n",
    "\n",
    "        if(not 'columns_to_keep' in kwargs):\n",
    "            columns_to_keep = [i for i in range(0, len(dt))]\n",
    "\n",
    "        h = header_len(fname)\n",
    "        num_total_rows = file_len(fname) - h\n",
    "        if(not 'chunksize' in kwargs):\n",
    "            chunksize = int(num_total_rows / 10.)\n",
    "        num_full_chunks = num_total_rows/chunksize\n",
    "        chunksize_remainder = num_total_rows % chunksize\n",
    "\n",
    "        for i in xrange(0,h):\n",
    "            f.readline()\n",
    "        for ichunk in xrange(num_full_chunks):\n",
    "            chunk_array = np.array(list(column_cut_chunk_gen(chunksize, columns_to_keep, f)), dtype=dt)\n",
    "            mask = cut_func(chunk_array)\n",
    "            try:\n",
    "                full_array = np.append(full_array, chunk_array[mask])\n",
    "            except NameError:\n",
    "                full_array = chunk_array[mask]\n",
    "        chunk_array = np.array(list(column_cut_chunk_gen(chunksize_remainder, columns_to_keep, f)), dtype=dt)\n",
    "        mask = cut_func(chunk_array)\n",
    "        full_array = np.append(full_array, chunk_array[mask])\n",
    "    return Table(full_array)"
   ]
  },
  {
   "cell_type": "code",
   "execution_count": null,
   "metadata": {
    "collapsed": true
   },
   "outputs": [],
   "source": [
    "print fast_ascii_reader('rockstar', np.dtype([('age','f8'),('height','int8'),('weight','int8')]))"
   ]
  }
 ],
 "metadata": {
  "kernelspec": {
   "display_name": "Python 2",
   "language": "python",
   "name": "python2"
  },
  "language_info": {
   "codemirror_mode": {
    "name": "ipython",
    "version": 2
   },
   "file_extension": ".py",
   "mimetype": "text/x-python",
   "name": "python",
   "nbconvert_exporter": "python",
   "pygments_lexer": "ipython2",
   "version": "2.7.10"
  }
 },
 "nbformat": 4,
 "nbformat_minor": 0
}
