{
 "metadata": {
  "name": "",
  "signature": "sha256:1b64d108dca2f090be733b9d2ca50fcd9f94f9707a682fe3a92a4aa922ae02d9"
 },
 "nbformat": 3,
 "nbformat_minor": 0,
 "worksheets": [
  {
   "cells": [
    {
     "cell_type": "code",
     "collapsed": false,
     "input": [
      "import numpy as np\n",
      "from itertools import islice\n",
      "import pprint as pp\n",
      "from astropy.table import Table"
     ],
     "language": "python",
     "metadata": {},
     "outputs": [],
     "prompt_number": 1
    },
    {
     "cell_type": "code",
     "collapsed": false,
     "input": [
      "def create_ascii():\n",
      "    with open('rockstar', 'w') as f:\n",
      "        for i in xrange(0, 10):\n",
      "            f.write(\"#header lines\\n\")\n",
      "        for i in xrange(0, int(35)):\n",
      "            x = np.random.uniform(0,1,1)[0]\n",
      "            y = np.random.random_integers(-100,100,1)[0]\n",
      "            z = np.random.random_integers(-100,100,1)[0]\n",
      "            l = str(x) + ' ' + str(y) + ' ' + str(z)\n",
      "            l += '\\n'\n",
      "            f.write(l)"
     ],
     "language": "python",
     "metadata": {},
     "outputs": [],
     "prompt_number": 2
    },
    {
     "cell_type": "markdown",
     "metadata": {},
     "source": [
      "Here's how you can use numpy to generate the data all at once. \n",
      "It is always faster to minimize the number of operations done in a python for loop. \n",
      "Immaterial for this particular problem, but a good habit to get into. "
     ]
    },
    {
     "cell_type": "code",
     "collapsed": false,
     "input": [
      "def create_ascii_alt():\n",
      "    nlines = 35\n",
      "    xarr = np.random.uniform(0, 1, nlines)\n",
      "    yarr = np.random.random_integers(-100,100,nlines)\n",
      "    zarr = np.random.random_integers(-100,100,nlines)\n",
      "    with open('rockstar', 'w') as f:\n",
      "        for i in xrange(0, 10):\n",
      "            f.write(\"#header lines\\n\")\n",
      "        for i in xrange(0, int(35)):\n",
      "            x, y, z = xarr[i], yarr[i], zarr[i]\n",
      "            l = str(x) + ' ' + str(y) + ' ' + str(z)\n",
      "            l += '\\n'\n",
      "            f.write(l)"
     ],
     "language": "python",
     "metadata": {},
     "outputs": [],
     "prompt_number": 3
    },
    {
     "cell_type": "code",
     "collapsed": false,
     "input": [
      "create_ascii_alt()"
     ],
     "language": "python",
     "metadata": {},
     "outputs": [],
     "prompt_number": 4
    },
    {
     "cell_type": "code",
     "collapsed": false,
     "input": [
      "def ascii_reader(chunksize, *args, **kwargs):\n",
      "    if(not args):\n",
      "        args = [0,1,2] #columns\n",
      "    with open('rockstar', 'r') as f:\n",
      "\n",
      "        for i in xrange(0, 10):\n",
      "            f.readline() #skip headers\n",
      "\n",
      "        while True:\n",
      "            # chunk = list(islice(f, 10))\n",
      "            chunk = []\n",
      "            for i in xrange(0, chunksize):\n",
      "                line = f.readline().split()\n",
      "                if(line):\n",
      "                    chunk.append([line[i] for i in args])\n",
      "                    chunk_np = np.array(chunk)\n",
      "                    table = Table(chunk_np, names=('a','b','c'))\n",
      "                else: #last chunk will cover reminader\n",
      "                    break \n",
      "            if not chunk:\n",
      "                break\n",
      "            print table\n",
      "            # pp.pprint(chunk)\n",
      "            if('cut' in kwargs):\n",
      "                yield kwargs['cut'](chunk)\n",
      "            else:\n",
      "                yield chunk"
     ],
     "language": "python",
     "metadata": {},
     "outputs": [],
     "prompt_number": 5
    },
    {
     "cell_type": "code",
     "collapsed": false,
     "input": [
      "# ascii_reader()\n",
      "a = ascii_reader(10)\n",
      "a.next()\n",
      "a.next()\n",
      "a.next()\n",
      "a.next()\n",
      "# print a.next()\n",
      "# print a.next()\n",
      "\n"
     ],
     "language": "python",
     "metadata": {},
     "outputs": [
      {
       "output_type": "stream",
       "stream": "stdout",
       "text": [
        "       a         b   c \n",
        "--------------- --- ---\n",
        " 0.124737570164 100  71\n",
        " 0.115168767332  71  39\n",
        " 0.274314279401 -13 -24\n",
        "  0.77320185965 -99  93\n",
        " 0.891812625319 -88  67\n",
        " 0.515865608602 -27 -47\n",
        "0.0713842289772  84 -37\n",
        "0.0839425267271  28   3\n",
        "0.0348060250508 -40  62\n",
        " 0.680189778495 -52 -47\n",
        "        a          b   c \n",
        "----------------- --- ---\n",
        "   0.704430820869 -12  60\n",
        "   0.369099721596  40  90\n",
        "   0.302692969275 -47 -23\n",
        "   0.149152501493 -62  -4\n",
        "   0.154388607656  -6  -6\n",
        "   0.138268980927 -52  32\n",
        "   0.793872729437 -32 -94\n",
        "0.000768166520373 -86  57\n",
        "   0.100889799223  39  75\n",
        "   0.933294255305 -13 -58\n",
        "       a         b   c \n",
        "--------------- --- ---\n",
        " 0.274185103878   4 -60\n",
        " 0.492994511668  25 -57\n",
        " 0.645603054695  10   3\n",
        " 0.278275601131 -18  29\n",
        " 0.186480910053 -80 -91\n",
        " 0.236734331644  94  58\n",
        " 0.575789996329 -66 -23\n",
        "0.0786697380498  80  33\n",
        " 0.870826736491  70  45\n",
        " 0.647211033915   3  11\n",
        "      a         b   c \n",
        "-------------- --- ---\n",
        "0.905428997152 -93  32\n",
        "0.953200073908 -75  45\n",
        "0.427733943753  98  75\n",
        "0.606947365923 -13   8\n",
        "0.690312007534 -25  -8\n"
       ]
      },
      {
       "metadata": {},
       "output_type": "pyout",
       "prompt_number": 7,
       "text": [
        "[['0.905428997152', '-93', '32'],\n",
        " ['0.953200073908', '-75', '45'],\n",
        " ['0.427733943753', '98', '75'],\n",
        " ['0.606947365923', '-13', '8'],\n",
        " ['0.690312007534', '-25', '-8']]"
       ]
      }
     ],
     "prompt_number": 7
    },
    {
     "cell_type": "markdown",
     "metadata": {},
     "source": [
      "This is a good start, but there's a lot of hard-coding and because you are creating a numpy array and then an astropy table for every single line of ascii, this will probably be slow when run over big data. Have a look at the code below to see a sketch of an alternate implementation that will scale better with the file size, which is an important spec since the code you are writing here is going to be adapted to read in the very large files storing the trees.\n",
      "\n",
      "You don't need to use this particular implementation, but you do need your reader to work well with very large files and in general to have a lot less hard-coding. Fill in the code to the function at the end of this notebook and then try out your solution on ascii data with ~1e6 lines. "
     ]
    },
    {
     "cell_type": "code",
     "collapsed": false,
     "input": [
      "def file_len(fname):\n",
      "    \"\"\" Note that this includes header lines.\"\"\"\n",
      "    for i, line in enumerate(open(fname)):\n",
      "        pass\n",
      "    return i+1"
     ],
     "language": "python",
     "metadata": {},
     "outputs": [],
     "prompt_number": 6
    },
    {
     "cell_type": "code",
     "collapsed": false,
     "input": [
      "def column_cut_chunk_gen(chunk_size, columns_to_keep, f):\n",
      "    \"\"\" \n",
      "    Generator that yields a list of length ``chunk_size`` containing the ``columns_to_keep`` \n",
      "    stored in the open file object ``f``. \n",
      "    \n",
      "    Parameters \n",
      "    ----------\n",
      "    chunk_size : int \n",
      "    \n",
      "    columns_to_keep : list \n",
      "    \n",
      "    f : open file object\n",
      "    \"\"\"\n",
      "    cur = 0\n",
      "    while cur < chunk_size:\n",
      "        line = f.readline()    \n",
      "        parsed_line = line.strip().split()\n",
      "        yield tuple(parsed_line[i] for i in columns_to_keep)\n",
      "        cur += 1 "
     ],
     "language": "python",
     "metadata": {},
     "outputs": [],
     "prompt_number": 6
    },
    {
     "cell_type": "code",
     "collapsed": false,
     "input": [
      "def read_rowcut_file(fname, dt, cut_func, columns_to_keep):\n",
      "    num_total_rows = file_len(fname)\n",
      "    chunksize = int(num_total_rows / 10.)\n",
      "    num_full_chunks = num_total_rows/chunksize\n",
      "    chunksize_remainder = num_total_rows % chunksize\n",
      "\n",
      "    with open(fname) as f:\n",
      "        for ichunk in xrange(num_full_chunks):\n",
      "            chunk_array = np.array(list(column_cut_chunk_gen(chunksize, columns_to_keep, f)), dtype=dt)\n",
      "            mask = cut_func(chunk_array)\n",
      "            try:\n",
      "                full_array = np.append(full_array, chunk_array[mask])\n",
      "            except NameError:\n",
      "                full_array = chunk_array[mask]\n",
      "        # Now for the final chunk\n",
      "        chunk_array = np.array(list(column_cut_chunk_gen(chunksize_remainder, columns_to_keep, f)), dtype=dt)\n",
      "        full_array = np.append(full_array, chunk_array)\n",
      "    return full_array"
     ],
     "language": "python",
     "metadata": {},
     "outputs": [],
     "prompt_number": 6
    },
    {
     "cell_type": "markdown",
     "metadata": {},
     "source": [
      "### Fill in the body of code into the following function"
     ]
    },
    {
     "cell_type": "code",
     "collapsed": false,
     "input": [
      "def fast_ascii_reader(fname, dt, **kwargs):\n",
      "    \"\"\"\n",
      "    Parameters \n",
      "    -----------\n",
      "    fname : string \n",
      "    \n",
      "    dt : numpy dtype\n",
      "        dtype object storing the names of the columns and their type.\n",
      "    \n",
      "    cut_func : function object, optional \n",
      "        function used to apply row-wise cuts to the ascii file. Default is no cuts. \n",
      "        \n",
      "    columns_to_keep : list, optional \n",
      "        List of columns to keep. Default is all columns.\n",
      "        If provided, must have the same length as the input ``dt``. \n",
      "        \n",
      "    chunksize : int, optional \n",
      "        Size of the chunks to use when reading in the data. \n",
      "        Varying chunksize impacts performance, but not the returned result. \n",
      "        Default is nrows/10.\n",
      "        \n",
      "    Returns \n",
      "    -------\n",
      "    data : astropy table\n",
      "        table storing data of type ``dt`` for only the requested rows and columns\n",
      "    \"\"\"\n",
      "    pass "
     ],
     "language": "python",
     "metadata": {},
     "outputs": []
    }
   ],
   "metadata": {}
  }
 ]
}