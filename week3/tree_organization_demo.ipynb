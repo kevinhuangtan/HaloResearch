{
 "cells": [
  {
   "cell_type": "markdown",
   "metadata": {},
   "source": [
    "## Set up the directory structure"
   ]
  },
  {
   "cell_type": "markdown",
   "metadata": {},
   "source": [
    "First make our directory structure, which is an integral part of the tree data structure itself."
   ]
  },
  {
   "cell_type": "code",
   "execution_count": 1,
   "metadata": {
    "collapsed": false
   },
   "outputs": [],
   "source": [
    "mkdir trees"
   ]
  },
  {
   "cell_type": "code",
   "execution_count": 24,
   "metadata": {
    "collapsed": false
   },
   "outputs": [],
   "source": [
    "mkdir trees/0_0_0"
   ]
  },
  {
   "cell_type": "code",
   "execution_count": 25,
   "metadata": {
    "collapsed": false
   },
   "outputs": [],
   "source": [
    "mkdir trees/0_0_0/x.float64"
   ]
  },
  {
   "cell_type": "code",
   "execution_count": 26,
   "metadata": {
    "collapsed": false
   },
   "outputs": [],
   "source": [
    "mkdir trees/0_0_0/haloid.int64"
   ]
  },
  {
   "cell_type": "code",
   "execution_count": 27,
   "metadata": {
    "collapsed": false
   },
   "outputs": [],
   "source": [
    "mkdir trees/0_0_0/a.float64"
   ]
  },
  {
   "cell_type": "code",
   "execution_count": 28,
   "metadata": {
    "collapsed": false
   },
   "outputs": [],
   "source": [
    "mkdir trees/0_0_1"
   ]
  },
  {
   "cell_type": "code",
   "execution_count": 29,
   "metadata": {
    "collapsed": false
   },
   "outputs": [],
   "source": [
    "mkdir trees/0_0_1/x.float64"
   ]
  },
  {
   "cell_type": "code",
   "execution_count": 30,
   "metadata": {
    "collapsed": false
   },
   "outputs": [],
   "source": [
    "mkdir trees/0_0_1/haloid.int64"
   ]
  },
  {
   "cell_type": "code",
   "execution_count": 31,
   "metadata": {
    "collapsed": false
   },
   "outputs": [],
   "source": [
    "mkdir trees/0_0_1/a.float64"
   ]
  },
  {
   "cell_type": "markdown",
   "metadata": {},
   "source": [
    "## Make some dummy data of halos and their trees"
   ]
  },
  {
   "cell_type": "markdown",
   "metadata": {},
   "source": [
    "First make a dummy halo catalog:"
   ]
  },
  {
   "cell_type": "code",
   "execution_count": 16,
   "metadata": {
    "collapsed": false
   },
   "outputs": [],
   "source": [
    "num_halos = 4\n",
    "\n",
    "x = np.array([0., 2.3, 25.3, 22.8])\n",
    "haloid = np.array([1, 2, 3, 4])\n",
    "\n",
    "from astropy.table import Table\n",
    "halos = Table({'x': x, 'haloid': haloid})"
   ]
  },
  {
   "cell_type": "markdown",
   "metadata": {},
   "source": [
    "Now let's make some dummy data for the full trees of these halos:"
   ]
  },
  {
   "cell_type": "code",
   "execution_count": 19,
   "metadata": {
    "collapsed": false
   },
   "outputs": [],
   "source": [
    "tree1_length = 45\n",
    "tree1_x = np.random.random(tree1_length)\n",
    "tree1_id = np.random.random_integers(0, 999, tree1_length)\n",
    "tree1_a = np.linspace(1, 0.1, tree1_length)\n",
    "\n",
    "tree2_length = 89\n",
    "tree2_x = np.random.random(tree2_length)\n",
    "tree2_id = np.random.random_integers(1000, 1999, tree2_length)\n",
    "tree2_a = np.linspace(1, 0.1, tree2_length)\n",
    "\n",
    "tree3_length = 109\n",
    "tree3_x = np.random.random(tree3_length)\n",
    "tree3_id = np.random.random_integers(2000, 2999, tree3_length)\n",
    "tree3_a = np.linspace(1, 0.1, tree3_length)\n",
    "\n",
    "tree4_length = 33\n",
    "tree4_x = np.random.random(tree4_length)\n",
    "tree4_id = np.random.random_integers(3000, 3999, tree4_length)\n",
    "tree4_a = np.linspace(1, 0.1, tree4_length)"
   ]
  },
  {
   "cell_type": "markdown",
   "metadata": {},
   "source": [
    "Suppose the first two halos are in the first subvolume, and the second two trees are in the second subvolume:"
   ]
  },
  {
   "cell_type": "code",
   "execution_count": 41,
   "metadata": {
    "collapsed": false
   },
   "outputs": [],
   "source": [
    "x_0_0_0 = np.append(tree1_x, tree2_x)\n",
    "id_0_0_0 = np.append(tree1_id, tree2_id)\n",
    "a_0_0_0 = np.append(tree1_a, tree2_a)\n",
    "\n",
    "x_0_0_1 = np.append(tree3_x, tree4_x)\n",
    "id_0_0_1 = np.append(tree3_id, tree4_id)\n",
    "a_0_0_1 = np.append(tree3_a, tree4_a)"
   ]
  },
  {
   "cell_type": "markdown",
   "metadata": {},
   "source": [
    "The above code is just a quick way to generate the form of the numpy arrays we want. In practice these arrays will be created during the ascii-reading of the hlists. "
   ]
  },
  {
   "cell_type": "markdown",
   "metadata": {},
   "source": [
    "## Now store memory-mappings of these arrays into our directory structure"
   ]
  },
  {
   "cell_type": "code",
   "execution_count": 38,
   "metadata": {
    "collapsed": false
   },
   "outputs": [],
   "source": [
    "mm = np.memmap(filename='trees/0_0_0/x.float64/x.data', dtype = np.float64, mode='w+', shape=(len(x_0_0_0),))\n",
    "mm[:] = x_0_0_0[:]\n",
    "del mm\n",
    "\n",
    "mm = np.memmap(filename='trees/0_0_0/a.float64/a.data', dtype = np.float64, mode='w+', shape=(len(a_0_0_0),))\n",
    "mm[:] = a_0_0_0[:]\n",
    "del mm\n",
    "\n",
    "mm = np.memmap(filename='trees/0_0_0/haloid.int64/haloid.data', dtype = np.int64, mode='w+', shape=(len(id_0_0_0),))\n",
    "mm[:] = id_0_0_0[:]\n",
    "del mm"
   ]
  },
  {
   "cell_type": "code",
   "execution_count": 1,
   "metadata": {
    "collapsed": false
   },
   "outputs": [
    {
     "ename": "NameError",
     "evalue": "name 'np' is not defined",
     "output_type": "error",
     "traceback": [
      "\u001b[0;31m---------------------------------------------------------------------------\u001b[0m",
      "\u001b[0;31mNameError\u001b[0m                                 Traceback (most recent call last)",
      "\u001b[0;32m<ipython-input-1-74658d0fdb2d>\u001b[0m in \u001b[0;36m<module>\u001b[0;34m()\u001b[0m\n\u001b[0;32m----> 1\u001b[0;31m \u001b[0mmm\u001b[0m \u001b[0;34m=\u001b[0m \u001b[0mnp\u001b[0m\u001b[0;34m.\u001b[0m\u001b[0mmemmap\u001b[0m\u001b[0;34m(\u001b[0m\u001b[0mfilename\u001b[0m\u001b[0;34m=\u001b[0m\u001b[0;34m'trees/0_0_1/x.float64/x.data'\u001b[0m\u001b[0;34m,\u001b[0m \u001b[0mdtype\u001b[0m \u001b[0;34m=\u001b[0m \u001b[0mnp\u001b[0m\u001b[0;34m.\u001b[0m\u001b[0mfloat64\u001b[0m\u001b[0;34m,\u001b[0m \u001b[0mmode\u001b[0m\u001b[0;34m=\u001b[0m\u001b[0;34m'w+'\u001b[0m\u001b[0;34m,\u001b[0m \u001b[0mshape\u001b[0m\u001b[0;34m=\u001b[0m\u001b[0;34m(\u001b[0m\u001b[0mlen\u001b[0m\u001b[0;34m(\u001b[0m\u001b[0mx_0_0_1\u001b[0m\u001b[0;34m)\u001b[0m\u001b[0;34m,\u001b[0m\u001b[0;34m)\u001b[0m\u001b[0;34m)\u001b[0m\u001b[0;34m\u001b[0m\u001b[0m\n\u001b[0m\u001b[1;32m      2\u001b[0m \u001b[0mmm\u001b[0m\u001b[0;34m[\u001b[0m\u001b[0;34m:\u001b[0m\u001b[0;34m]\u001b[0m \u001b[0;34m=\u001b[0m \u001b[0mx_0_0_1\u001b[0m\u001b[0;34m[\u001b[0m\u001b[0;34m:\u001b[0m\u001b[0;34m]\u001b[0m\u001b[0;34m\u001b[0m\u001b[0m\n\u001b[1;32m      3\u001b[0m \u001b[0;32mdel\u001b[0m \u001b[0mmm\u001b[0m\u001b[0;34m\u001b[0m\u001b[0m\n\u001b[1;32m      4\u001b[0m \u001b[0;34m\u001b[0m\u001b[0m\n\u001b[1;32m      5\u001b[0m \u001b[0mmm\u001b[0m \u001b[0;34m=\u001b[0m \u001b[0mnp\u001b[0m\u001b[0;34m.\u001b[0m\u001b[0mmemmap\u001b[0m\u001b[0;34m(\u001b[0m\u001b[0mfilename\u001b[0m\u001b[0;34m=\u001b[0m\u001b[0;34m'trees/0_0_1/a.float64/a.data'\u001b[0m\u001b[0;34m,\u001b[0m \u001b[0mdtype\u001b[0m \u001b[0;34m=\u001b[0m \u001b[0mnp\u001b[0m\u001b[0;34m.\u001b[0m\u001b[0mfloat64\u001b[0m\u001b[0;34m,\u001b[0m \u001b[0mmode\u001b[0m\u001b[0;34m=\u001b[0m\u001b[0;34m'w+'\u001b[0m\u001b[0;34m,\u001b[0m \u001b[0mshape\u001b[0m\u001b[0;34m=\u001b[0m\u001b[0;34m(\u001b[0m\u001b[0mlen\u001b[0m\u001b[0;34m(\u001b[0m\u001b[0ma_0_0_1\u001b[0m\u001b[0;34m)\u001b[0m\u001b[0;34m,\u001b[0m\u001b[0;34m)\u001b[0m\u001b[0;34m)\u001b[0m\u001b[0;34m\u001b[0m\u001b[0m\n",
      "\u001b[0;31mNameError\u001b[0m: name 'np' is not defined"
     ]
    }
   ],
   "source": [
    "mm = np.memmap(filename='trees/0_0_1/x.float64/x.data', dtype = np.float64, mode='w+', shape=(len(x_0_0_1),))\n",
    "mm[:] = x_0_0_1[:]\n",
    "del mm\n",
    "\n",
    "mm = np.memmap(filename='trees/0_0_1/a.float64/a.data', dtype = np.float64, mode='w+', shape=(len(a_0_0_1),))\n",
    "mm[:] = a_0_0_1[:]\n",
    "del mm\n",
    "\n",
    "mm = np.memmap(filename='trees/0_0_1/haloid.int64/haloid.data', dtype = np.int64, mode='w+', shape=(len(id_0_0_1),))\n",
    "mm[:] = id_0_0_1[:]\n",
    "del mm"
   ]
  },
  {
   "cell_type": "markdown",
   "metadata": {},
   "source": [
    "## Create new columns of the halo table for the tree filenames and offsets"
   ]
  },
  {
   "cell_type": "code",
   "execution_count": 51,
   "metadata": {
    "collapsed": false
   },
   "outputs": [],
   "source": [
    "halos['subvol'] = np.array(['0_0_0', '0_0_0', '0_0_1', '0_0_1'])\n",
    "halos['offset1'] = np.array([0, tree1_length, 0, tree3_length])\n",
    "halos['tree_length'] = np.array([tree1_length, tree2_length, tree3_length, tree4_length])"
   ]
  },
  {
   "cell_type": "code",
   "execution_count": 64,
   "metadata": {
    "collapsed": false
   },
   "outputs": [
    {
     "name": "stdout",
     "output_type": "stream",
     "text": [
      "(memmap(32), memmap(986))\n"
     ]
    }
   ],
   "source": [
    "offset = halos['offset1'][0]\n",
    "num_rows = halos['tree_length'][0]\n",
    "\n",
    "mmid1 = np.memmap(filename='trees/0_0_0/haloid.int64/haloid.data', \n",
    "                  dtype=np.int64, mode='r', shape=(num_rows,), offset=8*offset)\n",
    "print(mmid1.min(), mmid1.max())\n",
    "del mmid1"
   ]
  },
  {
   "cell_type": "code",
   "execution_count": 65,
   "metadata": {
    "collapsed": false
   },
   "outputs": [
    {
     "name": "stdout",
     "output_type": "stream",
     "text": [
      "(memmap(1002), memmap(1997))\n"
     ]
    }
   ],
   "source": [
    "offset = halos['offset1'][1]\n",
    "num_rows = halos['tree_length'][1]\n",
    "\n",
    "mmid2 = np.memmap(filename='trees/0_0_0/haloid.int64/haloid.data', \n",
    "                  dtype=np.int64, mode='r', shape=(num_rows,), offset=offset*8)\n",
    "print(mmid2.min(), mmid2.max())\n",
    "del mmid2"
   ]
  },
  {
   "cell_type": "code",
   "execution_count": 66,
   "metadata": {
    "collapsed": false
   },
   "outputs": [
    {
     "name": "stdout",
     "output_type": "stream",
     "text": [
      "(memmap(2000), memmap(2994))\n"
     ]
    }
   ],
   "source": [
    "offset = halos['offset1'][2]\n",
    "num_rows = halos['tree_length'][2]\n",
    "\n",
    "mmid3 = np.memmap(filename='trees/0_0_1/haloid.int64/haloid.data', \n",
    "                  dtype=np.int64, mode='r', shape=(num_rows,), offset=offset*8)\n",
    "print(mmid3.min(), mmid3.max())\n",
    "del mmid3"
   ]
  },
  {
   "cell_type": "code",
   "execution_count": 67,
   "metadata": {
    "collapsed": false,
    "scrolled": true
   },
   "outputs": [
    {
     "name": "stdout",
     "output_type": "stream",
     "text": [
      "(memmap(3095), memmap(3989))\n"
     ]
    }
   ],
   "source": [
    "offset = halos['offset1'][3]\n",
    "num_rows = halos['tree_length'][3]\n",
    "\n",
    "mmid4 = np.memmap(filename='trees/0_0_1/haloid.int64/haloid.data', \n",
    "                  dtype=np.int64, mode='r', shape=(num_rows,), offset=offset*8)\n",
    "print(mmid4.min(), mmid4.max())\n",
    "del mmid4"
   ]
  },
  {
   "cell_type": "code",
   "execution_count": 56,
   "metadata": {
    "collapsed": false
   },
   "outputs": [],
   "source": []
  },
  {
   "cell_type": "code",
   "execution_count": null,
   "metadata": {
    "collapsed": false
   },
   "outputs": [],
   "source": []
  }
 ],
 "metadata": {
  "kernelspec": {
   "display_name": "Python 2",
   "language": "python",
   "name": "python2"
  },
  "language_info": {
   "codemirror_mode": {
    "name": "ipython",
    "version": 2
   },
   "file_extension": ".py",
   "mimetype": "text/x-python",
   "name": "python",
   "nbconvert_exporter": "python",
   "pygments_lexer": "ipython2",
   "version": "2.7.10"
  }
 },
 "nbformat": 4,
 "nbformat_minor": 0
}
