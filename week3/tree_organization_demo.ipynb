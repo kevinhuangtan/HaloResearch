{
 "metadata": {
  "name": "",
  "signature": "sha256:687fd4504de6e9b5f6e690b8d6c1ac223e02ada6e071954ae6c8e91e0cd592ac"
 },
 "nbformat": 3,
 "nbformat_minor": 0,
 "worksheets": [
  {
   "cells": [
    {
     "cell_type": "markdown",
     "metadata": {},
     "source": [
      "## Set up the directory structure"
     ]
    },
    {
     "cell_type": "markdown",
     "metadata": {},
     "source": [
      "First make our directory structure, which is an integral part of the tree data structure itself."
     ]
    },
    {
     "cell_type": "code",
     "collapsed": false,
     "input": [
      "mkdir trees"
     ],
     "language": "python",
     "metadata": {},
     "outputs": [],
     "prompt_number": 1
    },
    {
     "cell_type": "code",
     "collapsed": false,
     "input": [
      "mkdir trees/0_0_0"
     ],
     "language": "python",
     "metadata": {},
     "outputs": [],
     "prompt_number": 24
    },
    {
     "cell_type": "code",
     "collapsed": false,
     "input": [
      "mkdir trees/0_0_0/x.float64"
     ],
     "language": "python",
     "metadata": {},
     "outputs": [],
     "prompt_number": 25
    },
    {
     "cell_type": "code",
     "collapsed": false,
     "input": [
      "mkdir trees/0_0_0/haloid.int64"
     ],
     "language": "python",
     "metadata": {},
     "outputs": [],
     "prompt_number": 26
    },
    {
     "cell_type": "code",
     "collapsed": false,
     "input": [
      "mkdir trees/0_0_0/a.float64"
     ],
     "language": "python",
     "metadata": {},
     "outputs": [],
     "prompt_number": 27
    },
    {
     "cell_type": "code",
     "collapsed": false,
     "input": [
      "mkdir trees/0_0_1"
     ],
     "language": "python",
     "metadata": {},
     "outputs": [],
     "prompt_number": 28
    },
    {
     "cell_type": "code",
     "collapsed": false,
     "input": [
      "mkdir trees/0_0_1/x.float64"
     ],
     "language": "python",
     "metadata": {},
     "outputs": [],
     "prompt_number": 29
    },
    {
     "cell_type": "code",
     "collapsed": false,
     "input": [
      "mkdir trees/0_0_1/haloid.int64"
     ],
     "language": "python",
     "metadata": {},
     "outputs": [],
     "prompt_number": 30
    },
    {
     "cell_type": "code",
     "collapsed": false,
     "input": [
      "mkdir trees/0_0_1/a.float64"
     ],
     "language": "python",
     "metadata": {},
     "outputs": [],
     "prompt_number": 31
    },
    {
     "cell_type": "markdown",
     "metadata": {},
     "source": [
      "## Make some dummy data of halos and their trees"
     ]
    },
    {
     "cell_type": "markdown",
     "metadata": {},
     "source": [
      "First make a dummy halo catalog:"
     ]
    },
    {
     "cell_type": "code",
     "collapsed": false,
     "input": [
      "num_halos = 4\n",
      "\n",
      "x = np.array([0., 2.3, 25.3, 22.8])\n",
      "haloid = np.array([1, 2, 3, 4])\n",
      "\n",
      "from astropy.table import Table\n",
      "halos = Table({'x': x, 'haloid': haloid})"
     ],
     "language": "python",
     "metadata": {},
     "outputs": [],
     "prompt_number": 16
    },
    {
     "cell_type": "markdown",
     "metadata": {},
     "source": [
      "Now let's make some dummy data for the full trees of these halos:"
     ]
    },
    {
     "cell_type": "code",
     "collapsed": false,
     "input": [
      "tree1_length = 45\n",
      "tree1_x = np.random.random(tree1_length)\n",
      "tree1_id = np.random.random_integers(0, 999, tree1_length)\n",
      "tree1_a = np.linspace(1, 0.1, tree1_length)\n",
      "\n",
      "tree2_length = 89\n",
      "tree2_x = np.random.random(tree2_length)\n",
      "tree2_id = np.random.random_integers(1000, 1999, tree2_length)\n",
      "tree2_a = np.linspace(1, 0.1, tree2_length)\n",
      "\n",
      "tree3_length = 109\n",
      "tree3_x = np.random.random(tree3_length)\n",
      "tree3_id = np.random.random_integers(2000, 2999, tree3_length)\n",
      "tree3_a = np.linspace(1, 0.1, tree3_length)\n",
      "\n",
      "tree4_length = 33\n",
      "tree4_x = np.random.random(tree4_length)\n",
      "tree4_id = np.random.random_integers(3000, 3999, tree4_length)\n",
      "tree4_a = np.linspace(1, 0.1, tree4_length)"
     ],
     "language": "python",
     "metadata": {},
     "outputs": [],
     "prompt_number": 19
    },
    {
     "cell_type": "markdown",
     "metadata": {},
     "source": [
      "Suppose the first two halos are in the first subvolume, and the second two trees are in the second subvolume:"
     ]
    },
    {
     "cell_type": "code",
     "collapsed": false,
     "input": [
      "x_0_0_0 = np.append(tree1_x, tree2_x)\n",
      "id_0_0_0 = np.append(tree1_id, tree2_id)\n",
      "a_0_0_0 = np.append(tree1_a, tree2_a)\n",
      "\n",
      "x_0_0_1 = np.append(tree3_x, tree4_x)\n",
      "id_0_0_1 = np.append(tree3_id, tree4_id)\n",
      "a_0_0_1 = np.append(tree3_a, tree4_a)"
     ],
     "language": "python",
     "metadata": {},
     "outputs": [],
     "prompt_number": 41
    },
    {
     "cell_type": "markdown",
     "metadata": {},
     "source": [
      "The above code is just a quick way to generate the form of the numpy arrays we want. In practice these arrays will be created during the ascii-reading of the hlists. "
     ]
    },
    {
     "cell_type": "markdown",
     "metadata": {},
     "source": [
      "## Now store memory-mappings of these arrays into our directory structure"
     ]
    },
    {
     "cell_type": "code",
     "collapsed": false,
     "input": [
      "mm = np.memmap(filename='trees/0_0_0/x.float64/x.data', dtype = np.float64, mode='w+', shape=(len(x_0_0_0),))\n",
      "mm[:] = x_0_0_0[:]\n",
      "del mm\n",
      "\n",
      "mm = np.memmap(filename='trees/0_0_0/a.float64/a.data', dtype = np.float64, mode='w+', shape=(len(a_0_0_0),))\n",
      "mm[:] = a_0_0_0[:]\n",
      "del mm\n",
      "\n",
      "mm = np.memmap(filename='trees/0_0_0/haloid.int64/haloid.data', dtype = np.int64, mode='w+', shape=(len(id_0_0_0),))\n",
      "mm[:] = id_0_0_0[:]\n",
      "del mm"
     ],
     "language": "python",
     "metadata": {},
     "outputs": [],
     "prompt_number": 38
    },
    {
     "cell_type": "code",
     "collapsed": false,
     "input": [
      "mm = np.memmap(filename='trees/0_0_1/x.float64/x.data', dtype = np.float64, mode='w+', shape=(len(x_0_0_1),))\n",
      "mm[:] = x_0_0_1[:]\n",
      "del mm\n",
      "\n",
      "mm = np.memmap(filename='trees/0_0_1/a.float64/a.data', dtype = np.float64, mode='w+', shape=(len(a_0_0_1),))\n",
      "mm[:] = a_0_0_1[:]\n",
      "del mm\n",
      "\n",
      "mm = np.memmap(filename='trees/0_0_1/haloid.int64/haloid.data', dtype = np.int64, mode='w+', shape=(len(id_0_0_1),))\n",
      "mm[:] = id_0_0_1[:]\n",
      "del mm"
     ],
     "language": "python",
     "metadata": {},
     "outputs": [],
     "prompt_number": 48
    },
    {
     "cell_type": "markdown",
     "metadata": {},
     "source": [
      "## Create new columns of the halo table for the tree filenames and offsets"
     ]
    },
    {
     "cell_type": "code",
     "collapsed": false,
     "input": [
      "halos['subvol'] = np.array(['0_0_0', '0_0_0', '0_0_1', '0_0_1'])\n",
      "halos['offset1'] = np.array([0, tree1_length, 0, tree3_length])\n",
      "halos['tree_length'] = np.array([tree1_length, tree2_length, tree3_length, tree4_length])"
     ],
     "language": "python",
     "metadata": {},
     "outputs": [],
     "prompt_number": 51
    },
    {
     "cell_type": "code",
     "collapsed": false,
     "input": [
      "offset = halos['offset1'][0]\n",
      "num_rows = halos['tree_length'][0]\n",
      "\n",
      "mmid1 = np.memmap(filename='trees/0_0_0/haloid.int64/haloid.data', \n",
      "                  dtype=np.int64, mode='r', shape=(num_rows,), offset=8*offset)\n",
      "print(mmid1.min(), mmid1.max())\n",
      "del mmid1"
     ],
     "language": "python",
     "metadata": {},
     "outputs": [
      {
       "output_type": "stream",
       "stream": "stdout",
       "text": [
        "(memmap(32), memmap(986))\n"
       ]
      }
     ],
     "prompt_number": 64
    },
    {
     "cell_type": "code",
     "collapsed": false,
     "input": [
      "offset = halos['offset1'][1]\n",
      "num_rows = halos['tree_length'][1]\n",
      "\n",
      "mmid2 = np.memmap(filename='trees/0_0_0/haloid.int64/haloid.data', \n",
      "                  dtype=np.int64, mode='r', shape=(num_rows,), offset=offset*8)\n",
      "print(mmid2.min(), mmid2.max())\n",
      "del mmid2"
     ],
     "language": "python",
     "metadata": {},
     "outputs": [
      {
       "output_type": "stream",
       "stream": "stdout",
       "text": [
        "(memmap(1002), memmap(1997))\n"
       ]
      }
     ],
     "prompt_number": 65
    },
    {
     "cell_type": "code",
     "collapsed": false,
     "input": [
      "offset = halos['offset1'][2]\n",
      "num_rows = halos['tree_length'][2]\n",
      "\n",
      "mmid3 = np.memmap(filename='trees/0_0_1/haloid.int64/haloid.data', \n",
      "                  dtype=np.int64, mode='r', shape=(num_rows,), offset=offset*8)\n",
      "print(mmid3.min(), mmid3.max())\n",
      "del mmid3"
     ],
     "language": "python",
     "metadata": {},
     "outputs": [
      {
       "output_type": "stream",
       "stream": "stdout",
       "text": [
        "(memmap(2000), memmap(2994))\n"
       ]
      }
     ],
     "prompt_number": 66
    },
    {
     "cell_type": "code",
     "collapsed": false,
     "input": [
      "offset = halos['offset1'][3]\n",
      "num_rows = halos['tree_length'][3]\n",
      "\n",
      "mmid4 = np.memmap(filename='trees/0_0_1/haloid.int64/haloid.data', \n",
      "                  dtype=np.int64, mode='r', shape=(num_rows,), offset=offset*8)\n",
      "print(mmid4.min(), mmid4.max())\n",
      "del mmid4"
     ],
     "language": "python",
     "metadata": {},
     "outputs": [
      {
       "output_type": "stream",
       "stream": "stdout",
       "text": [
        "(memmap(3095), memmap(3989))\n"
       ]
      }
     ],
     "prompt_number": 67
    },
    {
     "cell_type": "code",
     "collapsed": false,
     "input": [],
     "language": "python",
     "metadata": {},
     "outputs": [],
     "prompt_number": 56
    },
    {
     "cell_type": "code",
     "collapsed": false,
     "input": [],
     "language": "python",
     "metadata": {},
     "outputs": []
    }
   ],
   "metadata": {}
  }
 ]
}