{
 "cells": [
  {
   "cell_type": "markdown",
   "metadata": {},
   "source": [
    "#Set up the directory structure"
   ]
  },
  {
   "cell_type": "code",
   "execution_count": 1,
   "metadata": {
    "collapsed": true
   },
   "outputs": [],
   "source": [
    "mkdir trees"
   ]
  },
  {
   "cell_type": "code",
   "execution_count": 2,
   "metadata": {
    "collapsed": true
   },
   "outputs": [],
   "source": [
    "mkdir trees/0_0_0"
   ]
  },
  {
   "cell_type": "code",
   "execution_count": 3,
   "metadata": {
    "collapsed": true
   },
   "outputs": [],
   "source": [
    "mkdir trees/0_0_0/mass.float64"
   ]
  },
  {
   "cell_type": "markdown",
   "metadata": {},
   "source": [
    "#Create Tree Directory"
   ]
  },
  {
   "cell_type": "code",
   "execution_count": 19,
   "metadata": {
    "collapsed": false
   },
   "outputs": [],
   "source": [
    "import h5py\n",
    "import numpy as np\n",
    "\n",
    "dt = np.dtype([\n",
    "    ('scale', 'f4'), \n",
    "    ('haloid', 'i8'), \n",
    "    ('scale_desc', 'f4'), \n",
    "    ('haloid_desc', 'i8'), \n",
    "    ('num_prog', 'i4'), \n",
    "    ('pid', 'i8'), \n",
    "    ('upid', 'i8'), \n",
    "    ('pid_desc', 'i8'), \n",
    "    ('phantom', 'i4'), \n",
    "    ('mvir_sam', 'f4'), \n",
    "    ('mvir', 'f4'), \n",
    "    ('rvir', 'f4'), \n",
    "    ('rs', 'f4'), \n",
    "    ('vrms', 'f4'), \n",
    "    ('mmp', 'i4'), \n",
    "    ('scale_lastmm', 'f4'), \n",
    "    ('vmax', 'f4'), \n",
    "    ('x', 'f4'), \n",
    "    ('y', 'f4'), \n",
    "    ('z', 'f4'), \n",
    "    ('vx', 'f4'), \n",
    "    ('vy', 'f4'), \n",
    "    ('vz', 'f4'), \n",
    "    ('jx', 'f4'), \n",
    "    ('jy', 'f4'), \n",
    "    ('jz', 'f4'), \n",
    "    ('spin', 'f4'), \n",
    "    ('haloid_breadth_first', 'i8'), \n",
    "    ('haloid_depth_first', 'i8'), \n",
    "    ('haloid_tree_root', 'i8'), \n",
    "    ('haloid_orig', 'i8'), \n",
    "    ('snap_num', 'i4'), \n",
    "    ('haloid_next_coprog_depthfirst', 'i8'), \n",
    "    ('haloid_last_prog_depthfirst', 'i8'), \n",
    "    ('haloid_last_mainleaf_depthfirst', 'i8'), \n",
    "    ('rs_klypin', 'f4'), \n",
    "    ('mvir_all', 'f4'), \n",
    "    ('m200b', 'f4'), \n",
    "    ('m200c', 'f4'), \n",
    "    ('m500c', 'f4'), \n",
    "    ('m2500c', 'f4'), \n",
    "    ('xoff', 'f4'), \n",
    "    ('voff', 'f4'), \n",
    "    ('spin_bullock', 'f4'), \n",
    "    ('b_to_a', 'f4'), \n",
    "    ('c_to_a', 'f4'), \n",
    "    ('axisA_x', 'f4'), \n",
    "    ('axisA_y', 'f4'), \n",
    "    ('axisA_z', 'f4'), \n",
    "    ('b_to_a_500c', 'f4'), \n",
    "    ('c_to_a_500c', 'f4'), \n",
    "    ('axisA_x_500c', 'f4'), \n",
    "    ('axisA_y_500c', 'f4'), \n",
    "    ('axisA_z_500c', 'f4'), \n",
    "    ('t_by_u', 'f4'), \n",
    "    ('mass_pe_behroozi', 'f4'), \n",
    "    ('mass_pe_diemer', 'f4')\n",
    "    ])\n",
    "\n",
    "\n",
    "def header_len(fname):\n",
    "    \"\"\" Get number of header lines.\"\"\"\n",
    "    h = 0\n",
    "    for i, line in enumerate(open(fname)):\n",
    "        if(line[0] == '#'):\n",
    "            h += 1\n",
    "        else:\n",
    "            return h\n",
    "    return\n",
    "def tree_gen(f, dtype = dt):\n",
    "    line = f.readline()  \n",
    "    parsed_line = line.strip().split()\n",
    "    first_row = np.array(tuple(parsed_line), dtype = dt)\n",
    "    yield None\n",
    "    tree_length = int(first_row['haloid_last_prog_depthfirst']) - int(first_row['haloid_depth_first']) + 1\n",
    "    row = 0\n",
    "    while row < tree_length - 1:\n",
    "        line = f.readline() \n",
    "        yield None\n",
    "        row += 1 \n",
    "\n",
    "def create_tree_directory(fname, ouput_fname, dt, **kwargs):\n",
    "    h = header_len(fname)\n",
    "\n",
    "    with h5py.File(ouput_fname,\"w-\") as hf: \n",
    "        with open(fname, 'r') as f:\n",
    "            for _ in xrange(0, h):\n",
    "                f.readline()\n",
    "            num_trees = int(f.readline())\n",
    "            tree_index = 0\n",
    "            offset_sum = 0\n",
    "            while(tree_index < num_trees):\n",
    "                line = f.readline()  \n",
    "                tree_id = line[6:].strip('\\n')\n",
    "                len_arr = len(list(tree_gen(f, dt)))\n",
    "                hf[tree_id] = np.array([len_arr, offset_sum])\n",
    "                tree_index += 1\n",
    "                offset_sum += len_arr\n",
    "                print tree_index\n",
    "    return "
   ]
  },
  {
   "cell_type": "code",
   "execution_count": 16,
   "metadata": {
    "collapsed": false
   },
   "outputs": [
    {
     "name": "stdout",
     "output_type": "stream",
     "text": [
      "CPU times: user 1min 55s, sys: 27.6 s, total: 2min 23s\n",
      "Wall time: 2min 57s\n"
     ]
    }
   ],
   "source": [
    "create_tree_directory('tree_0_0_0.dat', 'output.hdf5', dt)"
   ]
  },
  {
   "cell_type": "markdown",
   "metadata": {},
   "source": [
    "#Create Mass Binary"
   ]
  },
  {
   "cell_type": "code",
   "execution_count": 14,
   "metadata": {
    "collapsed": true
   },
   "outputs": [],
   "source": [
    "\n",
    "MVIR = 10\n",
    "\n",
    "def param_gen(f, param):\n",
    "    line = f.readline()  \n",
    "    parsed_line = line.strip().split()\n",
    "    first_row = np.array(tuple(parsed_line), dtype = dt)\n",
    "    yield parsed_line[MVIR]\n",
    "    tree_length = int(first_row['haloid_last_prog_depthfirst']) - int(first_row['haloid_depth_first']) + 1\n",
    "    row = 0\n",
    "    while row < tree_length - 1:\n",
    "        line = f.readline() \n",
    "        yield line.strip().split()[param]\n",
    "        row += 1 \n",
    "\n",
    "def create_paramater_binary(fname, ouput_fname, tree_directory_hdf5, param):\n",
    "    h = header_len(fname)\n",
    "    with open(fname, 'r') as f:\n",
    "        with h5py.File(tree_directory_hdf5,\"r\") as hf: \n",
    "            for _ in xrange(0, h):\n",
    "                f.readline()\n",
    "            num_trees = int(f.readline())\n",
    "            tree_index = 0\n",
    "            offset_sum = 0\n",
    "            offset_size = 8 # bit sizefor float 64\n",
    "            # binaryarr =  np.array([])\n",
    "            binaryarr = []\n",
    "            while(tree_index < num_trees):\n",
    "                print 'tree index', tree_index\n",
    "                line = f.readline()  \n",
    "                tree_id = line[6:].strip('\\n')\n",
    "                binaryarr += (list(param_gen(f, param)))\n",
    "                tree_index += 1\n",
    "            mm = np.memmap(filename='trees/0_0_0/mass.float64/mass.data', dtype='float64', mode='w+', shape=(1, len(binaryarr)))\n",
    "            mm[:] = np.array(binaryarr)\n",
    "            print mm\n",
    "            del mm\n",
    "    return \n"
   ]
  },
  {
   "cell_type": "code",
   "execution_count": null,
   "metadata": {
    "collapsed": true
   },
   "outputs": [],
   "source": [
    "get_parameter('output.hdf5', 3060312953)"
   ]
  },
  {
   "cell_type": "markdown",
   "metadata": {},
   "source": [
    "#Access tree mass by memmap and tree directory"
   ]
  },
  {
   "cell_type": "code",
   "execution_count": null,
   "metadata": {
    "collapsed": true
   },
   "outputs": [],
   "source": [
    "def get_parameter(tree_directory_hdf5, tree_id):\n",
    "    with h5py.File(tree_directory_hdf5,\"r\") as hf: \n",
    "        offset_size = 8\n",
    "        offset = offset_size * hf[str(tree_id)][1]\n",
    "        length = hf[str(tree_id)][0]\n",
    "        check = np.memmap(filename='trees/0_0_0/mass.float64/mass.data', dtype=\"float64\", mode='r', shape=(1, length), offset=offset)\n",
    "        print check\n",
    "        del check\n",
    "    return \n",
    "#api not finalized here but succesful for \n",
    "#retrieving mass via tree directory...."
   ]
  },
  {
   "cell_type": "code",
   "execution_count": null,
   "metadata": {
    "collapsed": true
   },
   "outputs": [],
   "source": [
    "get_parameter('output.hdf5', 3060312953)"
   ]
  }
 ],
 "metadata": {
  "kernelspec": {
   "display_name": "Python 2",
   "language": "python",
   "name": "python2"
  },
  "language_info": {
   "codemirror_mode": {
    "name": "ipython",
    "version": 2
   },
   "file_extension": ".py",
   "mimetype": "text/x-python",
   "name": "python",
   "nbconvert_exporter": "python",
   "pygments_lexer": "ipython2",
   "version": "2.7.10"
  }
 },
 "nbformat": 4,
 "nbformat_minor": 0
}
